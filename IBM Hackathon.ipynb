{
 "cells": [
  {
   "cell_type": "code",
   "execution_count": 3,
   "id": "b670f532-6a43-4c47-84b4-f27de70a9564",
   "metadata": {},
   "outputs": [],
   "source": [
    "import os\n",
    "import numpy as np\n",
    "from PIL import Image\n",
    "from tensorflow.keras.utils import Sequence\n",
    "\n",
    "class BreastHistopathologyDataGenerator(Sequence):\n",
    "    def __init__(self, dataset_dir, batch_size=32, target_size=(50, 50), shuffle=True):\n",
    "        self.dataset_dir = dataset_dir\n",
    "        self.batch_size = batch_size\n",
    "        self.target_size = target_size\n",
    "        self.shuffle = shuffle\n",
    "        self.image_paths, self.labels = self._load_dataset()\n",
    "        self.on_epoch_end()\n",
    "\n",
    "    def _load_dataset(self):\n",
    "        image_paths = []\n",
    "        labels = []\n",
    "        # Walk through the directory and find image paths\n",
    "        for subdir, dirs, files in os.walk(self.dataset_dir):\n",
    "            for file in files:\n",
    "                if file.endswith(\".png\"):\n",
    "                    # Get the class label from the directory name (0 or 1)\n",
    "                    label = int(os.path.basename(subdir))\n",
    "                    image_path = os.path.join(subdir, file)\n",
    "                    image_paths.append(image_path)\n",
    "                    labels.append(label)\n",
    "        return np.array(image_paths), np.array(labels)\n",
    "\n",
    "    def __len__(self):\n",
    "        # Number of batches per epoch\n",
    "        return int(np.floor(len(self.image_paths) / self.batch_size))\n",
    "\n",
    "    def __getitem__(self, index):\n",
    "        # Generate one batch of data\n",
    "        batch_image_paths = self.image_paths[index * self.batch_size:(index + 1) * self.batch_size]\n",
    "        batch_labels = self.labels[index * self.batch_size:(index + 1) * self.batch_size]\n",
    "        \n",
    "        # Load and preprocess images\n",
    "        images = np.array([self._load_image(img_path) for img_path in batch_image_paths])\n",
    "        \n",
    "        return images, np.array(batch_labels)\n",
    "\n",
    "    def _load_image(self, img_path):\n",
    "        # Load and resize image\n",
    "        img = Image.open(img_path)\n",
    "        img = img.resize(self.target_size)\n",
    "        img_array = np.array(img) / 255.0  # Normalize pixel values to [0, 1]\n",
    "        return img_array\n",
    "\n",
    "    def on_epoch_end(self):\n",
    "        # Shuffle the data at the end of each epoch\n",
    "        if self.shuffle:\n",
    "            indices = np.arange(len(self.image_paths))\n",
    "            np.random.shuffle(indices)\n",
    "            self.image_paths = self.image_paths[indices]\n",
    "            self.labels = self.labels[indices]\n",
    "\n",
    "# Define the path to the dataset directory\n",
    "dataset_dir = \"/home/jovyan/breast/\"\n",
    "\n",
    "# Create an instance of the data generator\n",
    "data_generator = BreastHistopathologyDataGenerator(dataset_dir, batch_size=32, target_size=(50, 50))\n",
    "\n",
    "# # Example usage: Iterate over the generator to get batches of images\n",
    "# for images, labels in data_generator:\n",
    "#     print(f\"Batch images shape: {images.shape}\")\n",
    "#     print(f\"Batch labels: {labels}\")\n"
   ]
  },
  {
   "cell_type": "code",
   "execution_count": 5,
   "id": "fb5f6c8a-0a7b-44dd-b65d-c9b1473eb093",
   "metadata": {},
   "outputs": [
    {
     "name": "stdout",
     "output_type": "stream",
     "text": [
      "Epoch 1/10\n",
      "17345/17345 [==============================] - 1432s 83ms/step - loss: 0.3581 - accuracy: 0.8465\n",
      "Epoch 2/10\n",
      "17345/17345 [==============================] - 1394s 80ms/step - loss: 0.3206 - accuracy: 0.8640\n",
      "Epoch 3/10\n",
      "17345/17345 [==============================] - 1506s 87ms/step - loss: 0.3045 - accuracy: 0.8715\n",
      "Epoch 4/10\n",
      "17345/17345 [==============================] - 1442s 83ms/step - loss: 0.2933 - accuracy: 0.8764\n",
      "Epoch 5/10\n",
      "17345/17345 [==============================] - 1569s 90ms/step - loss: 0.2815 - accuracy: 0.8817\n",
      "Epoch 6/10\n",
      "17345/17345 [==============================] - 1459s 84ms/step - loss: 0.2698 - accuracy: 0.8870\n",
      "Epoch 7/10\n",
      "17345/17345 [==============================] - 1500s 86ms/step - loss: 0.2569 - accuracy: 0.8933\n",
      "Epoch 8/10\n",
      "17345/17345 [==============================] - 1344s 77ms/step - loss: 0.2431 - accuracy: 0.9000\n",
      "Epoch 9/10\n",
      "17345/17345 [==============================] - 1306s 75ms/step - loss: 0.2289 - accuracy: 0.9063\n",
      "Epoch 10/10\n",
      "17345/17345 [==============================] - 1288s 74ms/step - loss: 0.2156 - accuracy: 0.9119\n"
     ]
    },
    {
     "data": {
      "text/plain": [
       "<keras.callbacks.History at 0x3ff1adc61a0>"
      ]
     },
     "execution_count": 5,
     "metadata": {},
     "output_type": "execute_result"
    }
   ],
   "source": [
    "# Example model\n",
    "from tensorflow.keras.models import Sequential\n",
    "from tensorflow.keras.layers import Conv2D, MaxPooling2D, Flatten, Dense\n",
    "\n",
    "model = Sequential([\n",
    "    Conv2D(32, (3, 3), activation='relu', input_shape=(50, 50, 3)),\n",
    "    MaxPooling2D(pool_size=(2, 2)),\n",
    "    Conv2D(64, (3, 3), activation='relu'),\n",
    "    MaxPooling2D(pool_size=(2, 2)),\n",
    "    Flatten(),\n",
    "    Dense(128, activation='relu'),\n",
    "    Dense(1, activation='sigmoid')  # Binary classification output\n",
    "])\n",
    "\n",
    "# Compile the model\n",
    "model.compile(optimizer='adam', loss='binary_crossentropy', metrics=['accuracy'])\n",
    "\n",
    "# Train the model using the custom data generator\n",
    "model.fit(data_generator, epochs=10,batch_size = 32)\n"
   ]
  },
  {
   "cell_type": "code",
   "execution_count": null,
   "id": "d8291a1b-6edc-44ea-a959-3ef779e0688a",
   "metadata": {},
   "outputs": [
    {
     "name": "stdout",
     "output_type": "stream",
     "text": [
      "Epoch 1/10\n",
      "17345/17345 [==============================] - 1294s 75ms/step - loss: 0.2029 - accuracy: 0.9178\n",
      "Epoch 2/10\n",
      "17345/17345 [==============================] - 1299s 75ms/step - loss: 0.1902 - accuracy: 0.9229\n",
      "Epoch 3/10\n",
      " 7599/17345 [============>.................] - ETA: 12:13 - loss: 0.1763 - accuracy: 0.9291"
     ]
    }
   ],
   "source": [
    "# Split the data generator into training and validation sets\n",
    "train_data_generator = BreastHistopathologyDataGenerator(\n",
    "    dataset_dir=dataset_dir,\n",
    "    batch_size=32,\n",
    "    target_size=(50, 50),\n",
    "    shuffle=True\n",
    ")\n",
    "\n",
    "# Training the model\n",
    "model.fit(\n",
    "    train_data_generator,\n",
    "    epochs=10,\n",
    "    steps_per_epoch=len(train_data_generator)  # The number of batches per epoch\n",
    ")\n"
   ]
  },
  {
   "cell_type": "code",
   "execution_count": 7,
   "id": "b8116b10-688a-45f9-9106-284f772284e6",
   "metadata": {},
   "outputs": [
    {
     "name": "stdout",
     "output_type": "stream",
     "text": [
      "17345/17345 [==============================] - 517s 30ms/step - loss: 0.1598 - accuracy: 0.9366\n",
      "Validation Loss: 0.1598\n",
      "Validation Accuracy: 93.66%\n"
     ]
    }
   ],
   "source": [
    "# Create a validation data generator (same class as before)\n",
    "val_data_generator = BreastHistopathologyDataGenerator(\n",
    "    dataset_dir=dataset_dir,\n",
    "    batch_size=32,\n",
    "    target_size=(50, 50),\n",
    "    shuffle=False  # Shuffle can be False for validation/test data\n",
    ")\n",
    "\n",
    "# Evaluate the model\n",
    "loss, accuracy = model.evaluate(val_data_generator)\n",
    "print(f\"Validation Loss: {loss:.4f}\")\n",
    "print(f\"Validation Accuracy: {accuracy * 100:.2f}%\")\n"
   ]
  },
  {
   "cell_type": "code",
   "execution_count": 8,
   "id": "d73f8476-5255-43bb-99b5-5a8220bfe072",
   "metadata": {},
   "outputs": [
    {
     "name": "stdout",
     "output_type": "stream",
     "text": [
      "Model saved successfully!\n"
     ]
    }
   ],
   "source": [
    "# Save the trained model to a file\n",
    "model.save('breast_histopathology_cnn_model.h5')\n",
    "print(\"Model saved successfully!\")\n"
   ]
  },
  {
   "cell_type": "code",
   "execution_count": 9,
   "id": "657ba9d7-7bcb-4eb8-84e5-95d0b4c4590e",
   "metadata": {},
   "outputs": [],
   "source": [
    "from tensorflow.keras.models import load_model\n",
    "\n",
    "# Load the saved model\n",
    "model = load_model('breast_histopathology_cnn_model.h5')\n"
   ]
  },
  {
   "cell_type": "code",
   "execution_count": 13,
   "id": "5531a15a-69fb-4b84-a867-41952013c875",
   "metadata": {},
   "outputs": [
    {
     "name": "stdout",
     "output_type": "stream",
     "text": [
      "1/1 [==============================] - 0s 166ms/step\n",
      "The model predicts this image as benign with confidence 0.9989\n"
     ]
    }
   ],
   "source": [
    "import numpy as np\n",
    "from PIL import Image\n",
    "\n",
    "def predict_image(model, img_path):\n",
    "    img = Image.open(img_path)\n",
    "    img = img.resize((50, 50))  # Resize to match model's input size\n",
    "    img_array = np.array(img) / 255.0  # Normalize the image\n",
    "    img_array = np.expand_dims(img_array, axis=0)  # Add batch dimension\n",
    "\n",
    "    prediction = model.predict(img_array)\n",
    "    return prediction[0][0]\n",
    "\n",
    "# Predict on a sample image\n",
    "img_path = 'Test_image1.png'\n",
    "prediction = predict_image(model, img_path)\n",
    "\n",
    "if prediction > 0.5:\n",
    "    print(f\"The model predicts this image as malignant with confidence {prediction:.4f}\")\n",
    "else:\n",
    "    print(f\"The model predicts this image as benign with confidence {1 - prediction:.4f}\")\n"
   ]
  },
  {
   "cell_type": "code",
   "execution_count": 14,
   "id": "e5df665f-72e8-4ba2-b318-3f61354e163d",
   "metadata": {},
   "outputs": [
    {
     "name": "stdout",
     "output_type": "stream",
     "text": [
      "1/1 [==============================] - 0s 26ms/step\n",
      "The model predicts this image as malignant with confidence 0.7227\n"
     ]
    }
   ],
   "source": [
    "import numpy as np\n",
    "from PIL import Image\n",
    "\n",
    "def predict_image(model, img_path):\n",
    "    img = Image.open(img_path)\n",
    "    img = img.resize((50, 50))  # Resize to match model's input size\n",
    "    img_array = np.array(img) / 255.0  # Normalize the image\n",
    "    img_array = np.expand_dims(img_array, axis=0)  # Add batch dimension\n",
    "\n",
    "    prediction = model.predict(img_array)\n",
    "    return prediction[0][0]\n",
    "\n",
    "# Predict on a sample image\n",
    "img_path = 'Test_image2.png'\n",
    "prediction = predict_image(model, img_path)\n",
    "\n",
    "if prediction > 0.5:\n",
    "    print(f\"The model predicts this image as malignant with confidence {prediction:.4f}\")\n",
    "else:\n",
    "    print(f\"The model predicts this image as benign with confidence {1 - prediction:.4f}\")\n"
   ]
  },
  {
   "cell_type": "code",
   "execution_count": null,
   "id": "db9667ce-35c5-447c-b689-32b27fab269d",
   "metadata": {},
   "outputs": [],
   "source": []
  },
  {
   "cell_type": "code",
   "execution_count": null,
   "id": "1b272978-7c17-4703-aada-b3f44fc09d51",
   "metadata": {},
   "outputs": [],
   "source": []
  }
 ],
 "metadata": {
  "kernelspec": {
   "display_name": "Python 3 (ipykernel)",
   "language": "python",
   "name": "python3"
  },
  "language_info": {
   "codemirror_mode": {
    "name": "ipython",
    "version": 3
   },
   "file_extension": ".py",
   "mimetype": "text/x-python",
   "name": "python",
   "nbconvert_exporter": "python",
   "pygments_lexer": "ipython3",
   "version": "3.10.12"
  }
 },
 "nbformat": 4,
 "nbformat_minor": 5
}
